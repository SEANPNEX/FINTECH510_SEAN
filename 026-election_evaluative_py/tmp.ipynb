{
 "cells": [
  {
   "cell_type": "code",
   "execution_count": 4,
   "metadata": {},
   "outputs": [
    {
     "name": "stdout",
     "output_type": "stream",
     "text": [
      "['Alabama', '4858979', '9\\n']\n",
      "['Alaska', '738432', '3\\n']\n",
      "['Arizona', '6828065', '11\\n']\n",
      "['Arkansas', '2978204', '6\\n']\n",
      "['California', '39144818', '55\\n']\n",
      "['Colorado', '5456574', '9\\n']\n",
      "['Connecticut', '3590886', '7\\n']\n",
      "['Delaware', '945934', '3\\n']\n",
      "['District of Columbia', '672228', '3\\n']\n",
      "['Florida', '20271272', '29\\n']\n",
      "['Georgia', '10214860', '16\\n']\n",
      "['Hawaii', '1431603', '4\\n']\n",
      "['Idaho', '1654930', '4\\n']\n",
      "['Illinois', '12859995', '20\\n']\n",
      "['Indiana', '6619680', '11\\n']\n",
      "['Iowa', '3123899', '6\\n']\n",
      "['Kansas', '2911641', '6\\n']\n",
      "['Kentucky', '4425092', '8\\n']\n",
      "['Louisiana', '4670724', '8\\n']\n",
      "['Maine', '1329328', '4\\n']\n",
      "['Maryland', '6006401', '10\\n']\n",
      "['Massachusetts', '6794422', '11\\n']\n",
      "['Michigan', '9922576', '16\\n']\n",
      "['Minnesota', '5489594', '10\\n']\n",
      "['Mississippi', '2992333', '6\\n']\n",
      "['Missouri', '6083672', '10\\n']\n",
      "['Montana', '1032949', '3\\n']\n",
      "['Nebraska', '1896190', '5\\n']\n",
      "['Nevada', '2890845', '6\\n']\n",
      "['New Hampshire', '1330608', '4\\n']\n",
      "['New Jersey', '8958013', '14\\n']\n",
      "['New Mexico', '2085109', '5\\n']\n",
      "['New York', '19795791', '29\\n']\n",
      "['North Carolina', '10042802', '15\\n']\n",
      "['North Dakota', '756927', '3\\n']\n",
      "['Ohio', '11613423', '18\\n']\n",
      "['Oklahoma', '3911338', '7\\n']\n",
      "['Oregon', '4028977', '7\\n']\n",
      "['Pennsylvania', '12802503', '20\\n']\n",
      "['Rhode Island', '1056298', '4\\n']\n",
      "['South Carolina', '4896146', '9\\n']\n",
      "['South Dakota', '858469', '3\\n']\n",
      "['Tennessee', '6600299', '11\\n']\n",
      "['Texas', '27469114', '38\\n']\n",
      "['Utah', '2995919', '6\\n']\n",
      "['Vermont', '626042', '3\\n']\n",
      "['Virginia', '8382993', '13\\n']\n",
      "['Washington', '7170351', '12\\n']\n",
      "['West Virginia', '1844128', '5\\n']\n",
      "['Wisconsin', '5771337', '10\\n']\n",
      "['Wyoming', '586107', '3\\n']\n"
     ]
    },
    {
     "data": {
      "text/plain": [
       "538"
      ]
     },
     "execution_count": 4,
     "metadata": {},
     "output_type": "execute_result"
    }
   ],
   "source": [
    "count=0\n",
    "with open(\"US_States.txt\", 'r') as f:\n",
    "    for line in f.readlines():\n",
    "        print(line.split(\":\"))\n",
    "        count+=int(line.split(\":\")[2].strip())\n",
    "count"
   ]
  }
 ],
 "metadata": {
  "kernelspec": {
   "display_name": "py38",
   "language": "python",
   "name": "python3"
  },
  "language_info": {
   "codemirror_mode": {
    "name": "ipython",
    "version": 3
   },
   "file_extension": ".py",
   "mimetype": "text/x-python",
   "name": "python",
   "nbconvert_exporter": "python",
   "pygments_lexer": "ipython3",
   "version": "3.8.0"
  }
 },
 "nbformat": 4,
 "nbformat_minor": 2
}
