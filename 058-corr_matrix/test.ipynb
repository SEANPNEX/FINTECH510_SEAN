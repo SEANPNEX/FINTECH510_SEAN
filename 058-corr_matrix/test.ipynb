{
 "cells": [
  {
   "cell_type": "code",
   "execution_count": 3,
   "metadata": {},
   "outputs": [],
   "source": [
    "import pandas as pd\n"
   ]
  },
  {
   "cell_type": "code",
   "execution_count": 6,
   "metadata": {},
   "outputs": [],
   "source": [
    "df = pd.read_csv(\"small.csv\")\n",
    "df = df.pct_change().dropna().iloc[:,1:]"
   ]
  },
  {
   "cell_type": "code",
   "execution_count": null,
   "metadata": {},
   "outputs": [
    {
     "name": "stdout",
     "output_type": "stream",
     "text": [
      "[[1.         0.78009544]\n",
      " [0.78009544 1.        ]]\n"
     ]
    }
   ],
   "source": [
    "import numpy as np\n",
    "\n",
    "# Sample data\n",
    "data = np.array([\n",
    "    [2193.03, 24848.53],\n",
    "    [2291.72, 25723.20],\n",
    "    [2349.01, 26955.34],\n",
    "    [2373.67, 27963.47],\n",
    "    [2297.72, 28385.72]\n",
    "])\n",
    "\n",
    "# Calculate percentage change\n",
    "pct_change = np.diff(data, axis=0) / data[:-1] * 100\n",
    "\n",
    "# Custom function to calculate correlation with n as the denominator\n",
    "def custom_corrcoef(x, y):\n",
    "    n = len(x)\n",
    "    mean_x = np.mean(x)\n",
    "    mean_y = np.mean(y)\n",
    "    cov = np.sum((x - mean_x) * (y - mean_y)) / (n-1)\n",
    "    std_x = np.std(x, ddof=1)  \n",
    "    std_y = np.std(y, ddof=1)\n",
    "    return cov / (std_x * std_y)\n",
    "\n",
    "# Calculate correlation matrix\n",
    "corr_matrix = np.array([\n",
    "    [1.0, custom_corrcoef(pct_change[:, 0], pct_change[:, 1])],\n",
    "    [custom_corrcoef(pct_change[:, 1], pct_change[:, 0]), 1.0]\n",
    "])\n",
    "\n",
    "# Print the correlation matrix\n",
    "print(corr_matrix)\n"
   ]
  },
  {
   "cell_type": "code",
   "execution_count": null,
   "metadata": {},
   "outputs": [],
   "source": []
  }
 ],
 "metadata": {
  "kernelspec": {
   "display_name": "py38",
   "language": "python",
   "name": "python3"
  },
  "language_info": {
   "codemirror_mode": {
    "name": "ipython",
    "version": 3
   },
   "file_extension": ".py",
   "mimetype": "text/x-python",
   "name": "python",
   "nbconvert_exporter": "python",
   "pygments_lexer": "ipython3",
   "version": "3.8.0"
  }
 },
 "nbformat": 4,
 "nbformat_minor": 2
}
