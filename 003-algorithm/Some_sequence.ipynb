{
 "cells": [
  {
   "cell_type": "markdown",
   "metadata": {},
   "source": [
    "$-N^2,-N^2+1.-N^2+3,-N^2+5,\\cdots, -N^2+2Counter+1$, total $3N$ terms"
   ]
  },
  {
   "cell_type": "code",
   "execution_count": 9,
   "metadata": {},
   "outputs": [
    {
     "name": "stdout",
     "output_type": "stream",
     "text": [
      "-36 -35 -32 -27 -20 -11 0 13 28 45 64 85 108 133 160 189 220 253 \n"
     ]
    }
   ],
   "source": [
    "Algorithm=\"\"\"\n",
    "Algorithm='''\n",
    "def generate_Some_sequence(N):\n",
    "    with open(\"answer.txt\",\"w\") as f:\n",
    "        tmp_counter=0\n",
    "        line=f\"{-N**2} \"\n",
    "        prev=-N**2\n",
    "        while tmp_counter<(3*N-1):\n",
    "            prev+=(2*tmp_counter+1)\n",
    "            line+=f\"{prev} \"\n",
    "            tmp_counter+=1\n",
    " \n",
    "        print(line)\n",
    "        f.write(line+\"\\\\n\")\n",
    "        f.write(\"\\\\n\")\n",
    "        f.write(\"Algorithm(In Python): \\\\n\")\n",
    "        f.write(Algorithm)\n",
    "'''\n",
    "def generate_Some_sequence(N):\n",
    "    with open(\"answer.txt\",\"w\") as f:\n",
    "        tmp_counter=0\n",
    "        line=f\"{-N**2} \"\n",
    "        prev=-N**2\n",
    "        while tmp_counter<(3*N-1):\n",
    "            prev+=(2*tmp_counter+1)\n",
    "            line+=f\"{prev} \"\n",
    "            tmp_counter+=1\n",
    " \n",
    "        print(line)\n",
    "        f.write(line+\"\\\\n\")\n",
    "        f.write(\"\\\\n\")\n",
    "        f.write(\"Algorithm(In Python): \\\\n\")\n",
    "        f.write(Algorithm)\n",
    "\"\"\"\n",
    "def generate_Some_sequence(N):\n",
    "    with open(\"answer.txt\",\"w\") as f:\n",
    "        tmp_counter=0\n",
    "        line=f\"{-N**2} \"\n",
    "        prev=-N**2\n",
    "        while tmp_counter<(3*N-1):\n",
    "            prev+=(2*tmp_counter+1)\n",
    "            line+=f\"{prev} \"\n",
    "            tmp_counter+=1\n",
    " \n",
    "        print(line)\n",
    "        f.write(line+\"\\n\")\n",
    "        f.write(\"\\n\")\n",
    "        f.write(\"Algorithm(In Python): \\n\")\n",
    "        f.write(Algorithm)\n",
    "\n",
    "generate_Some_sequence(6)\n"
   ]
  }
 ],
 "metadata": {
  "kernelspec": {
   "display_name": "py38",
   "language": "python",
   "name": "python3"
  },
  "language_info": {
   "codemirror_mode": {
    "name": "ipython",
    "version": 3
   },
   "file_extension": ".py",
   "mimetype": "text/x-python",
   "name": "python",
   "nbconvert_exporter": "python",
   "pygments_lexer": "ipython3",
   "version": "3.8.0"
  }
 },
 "nbformat": 4,
 "nbformat_minor": 2
}
