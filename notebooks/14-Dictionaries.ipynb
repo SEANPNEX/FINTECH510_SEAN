{
 "cells": [
  {
   "cell_type": "markdown",
   "id": "c8a080ef",
   "metadata": {},
   "source": [
    "<div class=\"pagebreak\"></div>\n",
    "\n",
    "# Dictionaries\n",
    "Dictionaries are unordered collections of key-value pairs. Generally, we use strings for keys, but keys can be any immutable type. The primary immutable types we have seen so far are strings, ints, and floats.  Python does have an immutable version of a list type called tuple. Values can be of any type - including other dictionaries and lists.\n",
    "\n",
    "Keys must be unique. If we attempt to store another key-value pair where the key already exists, the new value replaces the previous value in the dictionary.\n",
    "\n",
    "Programmers use dictionaries (i.e., [associative arrays](https://en.wikipedia.org/wiki/Associative_array)) quite frequently. For example, translating one value to another value, e.g., a stock symbol to a stock name or a word in English to its counterpart in another language. We could also have a dictionary where the key is a university course name, and the values are a list of students within that course. Another dictionary could map HTTP response status codes to their descriptions: https://developer.mozilla.org/en-US/docs/Web/HTTP/Status. Retailers often use [SKUs](https://en.wikipedia.org/wiki/Stock_keeping_unit) to track products and inventory. The SKU could be the key, while the value may be another dictionary keeping track of a series of properties the retailer needs for each product: name, purchase_price, selling_price, inventory_count, …\n",
    "\n",
    "As with lists, dictionaries are another example of [data structures](https://en.wikipedia.org/wiki/Data_structure). A dictionary organize the data as unordered collection of key-value pairs. Accessing the dictionary with the key allows us to quickly retrieve a particular value.  The primary relationship in the dictionary is the key to value mapping.  Keys have an unordered relationship to other keys.  However, keys must be unique among themselves - a unique relationship.  Throughout this notebook, you will see the various operations that exist for dictionaries.\n",
    "\n",
    "As with other collections, we have different ways of creating dictionaries - literals with `{}` and the `dict()` function.\n",
    "\n",
    "## Creating: Literals\n",
    "With literals, we can either create an empty dictionary or use a sequence of key-value pairs to  populate a dictionary."
   ]
  },
  {
   "cell_type": "code",
   "execution_count": null,
   "id": "4b72d793",
   "metadata": {},
   "outputs": [],
   "source": [
    "empty_dict = {}\n",
    "empty_dict"
   ]
  },
  {
   "cell_type": "code",
   "execution_count": null,
   "id": "bf68c4e7",
   "metadata": {},
   "outputs": [],
   "source": [
    "stocks = { \"AXP\"  : \"American Express\",\n",
    "           \"AMGN\" : \"Amgen\",\n",
    "           \"AAPL\" : \"Apple\",\n",
    "           \"BA\"   : \"Boeing\"}\n",
    "print(stocks)"
   ]
  },
  {
   "cell_type": "markdown",
   "id": "8290da39",
   "metadata": {},
   "source": [
    "As a side note, we intentionally used extra whitespace while creating the dictionary to make the code easier to read. We can format this code multiple ways:\n",
    "```\n",
    "stocks = {'AXP': 'American Express', 'AMGN': 'Amgen', 'AAPL': 'Apple', 'BA': 'Boeing'}\n",
    "```\n",
    "```\n",
    "stocks = { \"AXP\" : \"American Express\", \"AMGN\" : \"Amgen\",\n",
    "           \"AAPL\" : \"Apple\",\n",
    "           \"BA\" : \"Boeing\"}\n",
    "```"
   ]
  },
  {
   "cell_type": "markdown",
   "id": "afd80529",
   "metadata": {},
   "source": [
    "## Creating: dict()\n",
    "We can pass named arguments and values to the built-in `dict()` function."
   ]
  },
  {
   "cell_type": "code",
   "execution_count": null,
   "id": "19c241d1",
   "metadata": {},
   "outputs": [],
   "source": [
    "more_stocks = dict(CAT='Caterpillar', CVX='Chevron', CSCO='Cisco', KO='Coca-Cola')\n",
    "more_stocks"
   ]
  },
  {
   "cell_type": "markdown",
   "id": "7c55ea86",
   "metadata": {},
   "source": [
    "With this named argument method, argument names must follow the naming rules for variables: no spaces, no reserved words, and the name must start with a letter or underscore.\n",
    "\n",
    "Creating dictionaries from two-value sequences:"
   ]
  },
  {
   "cell_type": "code",
   "execution_count": null,
   "id": "a4879873",
   "metadata": {},
   "outputs": [],
   "source": [
    "from_list_of_list = dict([ ['DIS', 'Walt Disney Co'], ['DOW', 'Dow'], ['GS', 'Goldman Sacs'], ['HD', 'Home Depot'] ])\n",
    "from_list_of_list"
   ]
  },
  {
   "cell_type": "markdown",
   "id": "c0060c6e",
   "metadata": {},
   "source": [
    "## Combining Dictionaries\n",
    "Python has two different ways to combine dictionaries.\n",
    "\n",
    "First, we can use `{**a, **b}` operator."
   ]
  },
  {
   "cell_type": "code",
   "execution_count": null,
   "id": "aa183ef2",
   "metadata": {},
   "outputs": [],
   "source": [
    "combined = { **more_stocks, **from_list_of_list}\n",
    "combined"
   ]
  },
  {
   "cell_type": "markdown",
   "id": "eed13a4f",
   "metadata": {},
   "source": [
    "Or, we can use the `.update()` method.  If both dictionaries contain the same key, the value from the dictionary in the argument takes precedence."
   ]
  },
  {
   "cell_type": "code",
   "execution_count": null,
   "id": "bcf47363",
   "metadata": {},
   "outputs": [],
   "source": [
    "more_stocks.update(from_list_of_list)\n",
    "more_stocks"
   ]
  },
  {
   "cell_type": "code",
   "execution_count": null,
   "id": "ccddb8b2",
   "metadata": {},
   "outputs": [],
   "source": [
    "stocks.update(combined)\n",
    "stocks.update(more_stocks)\n",
    "stocks"
   ]
  },
  {
   "cell_type": "markdown",
   "id": "c835a16a",
   "metadata": {},
   "source": [
    "## Number of Entries / Length\n",
    "Use `len() to` get a dictionary's size (number of entries)."
   ]
  },
  {
   "cell_type": "code",
   "execution_count": null,
   "id": "1a2a4214",
   "metadata": {},
   "outputs": [],
   "source": [
    "len(stocks)"
   ]
  },
  {
   "cell_type": "markdown",
   "id": "4f3bb216",
   "metadata": {},
   "source": [
    "## Adding, Changing, and Deleting Keys\n",
    "We can add and change keys by using the `[]` operator.\n"
   ]
  },
  {
   "cell_type": "code",
   "execution_count": null,
   "id": "5558f8c5",
   "metadata": {},
   "outputs": [],
   "source": [
    "stocks['UNH'] = 'UnitedHealth Group Inc'\n",
    "stocks['WBA'] = 'Walgreens Boot Alliance, Inc'\n",
    "stocks['WMT'] = 'Wally World'\n",
    "len(stocks)"
   ]
  },
  {
   "cell_type": "markdown",
   "id": "7437daf2",
   "metadata": {},
   "source": [
    "We now have half of the thirty stocks of the Dow Jones Industrial Average, but we should correct Walmartʼs name."
   ]
  },
  {
   "cell_type": "code",
   "execution_count": null,
   "id": "526640e5",
   "metadata": {},
   "outputs": [],
   "source": [
    "print(stocks['WMT'])\n",
    "stocks['WMT'] = 'Walmart Inc'\n",
    "print(stocks['WMT'])"
   ]
  },
  {
   "cell_type": "code",
   "execution_count": null,
   "id": "44baa17f",
   "metadata": {},
   "outputs": [],
   "source": [
    "stocks['TSLA'] = 'Tesla, Inc'\n",
    "stocks['TWTR'] = 'Twitter Inc'"
   ]
  },
  {
   "cell_type": "markdown",
   "id": "a2b338df",
   "metadata": {},
   "source": [
    "Whoa, how did those last two appear?  So what is Elon Musk doing now?\n",
    "\n",
    "We can delete an entry in a dictionary with `del`."
   ]
  },
  {
   "cell_type": "code",
   "execution_count": null,
   "id": "b9f3ae7b",
   "metadata": {},
   "outputs": [],
   "source": [
    "del stocks['TWTR']"
   ]
  },
  {
   "cell_type": "markdown",
   "id": "1e79a127",
   "metadata": {},
   "source": [
    "We can also get an item's value and remove that entry simultaneously with `pop()`."
   ]
  },
  {
   "cell_type": "code",
   "execution_count": null,
   "id": "4ec17a8e",
   "metadata": {},
   "outputs": [],
   "source": [
    "name = stocks.pop('TSLA')\n",
    "print(name)\n",
    "print(len(stocks))"
   ]
  },
  {
   "cell_type": "markdown",
   "id": "8dbf0cfb",
   "metadata": {},
   "source": [
    "To reiterate, each key in a dictionary must be unique. If a routine tries to put a key-value pair into the dictionary and the key already exists, then the existing key's value is replaced with the new value."
   ]
  },
  {
   "cell_type": "markdown",
   "id": "b52e0fa8",
   "metadata": {},
   "source": [
    "## Getting an item by key\n",
    "We have already seen how to access an item by `[key]`, but we can also get the value with `get()`."
   ]
  },
  {
   "cell_type": "code",
   "execution_count": null,
   "id": "75092c50",
   "metadata": {},
   "outputs": [],
   "source": [
    "print(stocks['WBA'])\n",
    "print(stocks.get('UNH'))"
   ]
  },
  {
   "cell_type": "markdown",
   "id": "6de00cc2",
   "metadata": {},
   "source": [
    "With `get()`, we can specify a default value if the key doesn't exist in the dictionary"
   ]
  },
  {
   "cell_type": "code",
   "execution_count": null,
   "id": "346ee556",
   "metadata": {},
   "outputs": [],
   "source": [
    "stocks.get('BAC','Unknown stock symbol')"
   ]
  },
  {
   "cell_type": "markdown",
   "id": "d7d54f04",
   "metadata": {},
   "source": [
    "The optional / default value comes in handy if we count items - such as the number of times various words appear in a document.  In this case, the key is the word, and the value is the occurrence count.  As we update the count, if we have not yet seen a particular word, we use a default value of `0`."
   ]
  },
  {
   "cell_type": "code",
   "execution_count": null,
   "id": "84b40a4a",
   "metadata": {},
   "outputs": [],
   "source": [
    "word_counts = {}\n",
    "word = 'test'\n",
    "word_counts[word] = word_counts.get(word,0) + 1\n",
    "print(word_counts)"
   ]
  },
  {
   "cell_type": "markdown",
   "id": "fbc4680b",
   "metadata": {},
   "source": [
    "## Getting all Keys\n",
    "Use the `keys()` method to get an iterable view of all the keys in a dictionary. Before Python 3, this returned a list, but now it returns a type of `dict_keys`.  We can convert that view to a list with the built-in function `list()`.  The advantage of the `dict_keys()` approach is that it does not necessarily create a list (which takes time and memory) with sizable dictionaries."
   ]
  },
  {
   "cell_type": "code",
   "execution_count": null,
   "id": "84395dcf",
   "metadata": {},
   "outputs": [],
   "source": [
    "symbols = stocks.keys()\n",
    "print(type(symbols))\n",
    "print(symbols)\n",
    "symbol_list = list(symbols)\n",
    "print(symbol_list)"
   ]
  },
  {
   "cell_type": "markdown",
   "id": "32bba78d",
   "metadata": {},
   "source": [
    "## Getting all Values\n",
    "Similarly, use `values()` to get an iterable view of all the values in a dictionary."
   ]
  },
  {
   "cell_type": "code",
   "execution_count": null,
   "id": "72103116",
   "metadata": {},
   "outputs": [],
   "source": [
    "names = stocks.values()\n",
    "print(type(names))\n",
    "print(names)\n",
    "name_list = list(names)\n",
    "print(name_list)"
   ]
  },
  {
   "cell_type": "markdown",
   "id": "a533d30f",
   "metadata": {},
   "source": [
    "## Getting all Key-Value Pairs\n",
    "To get both the keys and values together as an iterable view, use `items()`.  As with `keys()` and `values()`, this now returns a type of `dict_items`.  Each item is a tuple consisting of a key and a value."
   ]
  },
  {
   "cell_type": "code",
   "execution_count": null,
   "id": "06e54d37",
   "metadata": {},
   "outputs": [],
   "source": [
    "stocks.items()"
   ]
  },
  {
   "cell_type": "markdown",
   "id": "c276b351",
   "metadata": {},
   "source": [
    "## Iterating \n",
    "Using the `keys()`, `values()`, or `items()` method, we can iterate over the keys, values, or key-value pairs of a dictionary."
   ]
  },
  {
   "cell_type": "code",
   "execution_count": null,
   "id": "370d5e1f",
   "metadata": {},
   "outputs": [],
   "source": [
    "some_stocks = {'AXP': 'American Express', 'AMGN': 'Amgen', 'AAPL': 'Apple'}\n",
    "for symbol in some_stocks.keys():\n",
    "    print(symbol,end=':')\n",
    "print()\n",
    "# notice that we have a fencepost loop issue - code was to demonstrate iterating, \n",
    "# we could have called join() from a separator string\n",
    "\":\".join(some_stocks.keys())"
   ]
  },
  {
   "cell_type": "code",
   "execution_count": null,
   "id": "464c8343",
   "metadata": {},
   "outputs": [],
   "source": [
    "for symbol in some_stocks.values():\n",
    "    print(symbol,end=':')\n",
    "print()"
   ]
  },
  {
   "cell_type": "code",
   "execution_count": null,
   "id": "ab79a97a",
   "metadata": {},
   "outputs": [],
   "source": [
    "for item in some_stocks.items():\n",
    "    print(\"Ticker: {:>4s}, Name: {}\".format(item[0], item[1]))"
   ]
  },
  {
   "cell_type": "code",
   "execution_count": null,
   "id": "f51686f8",
   "metadata": {},
   "outputs": [],
   "source": [
    "for symbol, name in some_stocks.items():\n",
    "    print(\"{}: {}\".format(symbol,name))"
   ]
  },
  {
   "cell_type": "markdown",
   "id": "1f8ce059",
   "metadata": {},
   "source": [
    "## Deleting all entries\n",
    "To delete (remove) all entries from the dictionary, use `clear()`"
   ]
  },
  {
   "cell_type": "code",
   "execution_count": null,
   "id": "6f438990",
   "metadata": {},
   "outputs": [],
   "source": [
    "some_stocks = {'AXP': 'American Express', 'AMGN': 'Amgen', 'AAPL': 'Apple'}\n",
    "print(len(some_stocks))\n",
    "some_stocks.clear()\n",
    "print(len(some_stocks))\n",
    "print(some_stocks)"
   ]
  },
  {
   "cell_type": "markdown",
   "id": "8a80ffca",
   "metadata": {},
   "source": [
    "You can also assign an empty dictionary to the variable.  However, if you have two variables that refer to the same table, the other variable still has a reference to the original dictionary. [Visualize on PythonTutor](https://pythontutor.com/render.html#code=some_stocks%20%3D%20%7B'AXP'%3A%20'American%20Express',%20'AMGN'%3A%20'Amgen',%20'AAPL'%3A%20'Apple'%7D%0Astocks_dict%20%3D%20some_stocks%0Aprint%20%28some_stocks%29%0A%0Asome_stocks%20%3D%20%7B%7D%0Aprint%28some_stocks%29%0Aprint%28stocks_dict%29&cumulative=false&curInstr=0&heapPrimitives=true&mode=display&origin=opt-frontend.js&py=3&rawInputLstJSON=%5B%5D&textReferences=false)"
   ]
  },
  {
   "cell_type": "code",
   "execution_count": null,
   "id": "751ead97",
   "metadata": {},
   "outputs": [],
   "source": [
    "some_stocks = {'AXP': 'American Express', 'AMGN': 'Amgen', 'AAPL': 'Apple'}\n",
    "stocks_dict = some_stocks\n",
    "print (some_stocks)\n",
    "\n",
    "some_stocks = {}\n",
    "print(some_stocks)\n",
    "print(stocks_dict)"
   ]
  },
  {
   "cell_type": "markdown",
   "id": "e747cf87",
   "metadata": {},
   "source": [
    "## Checking if a key exists\n",
    "You can check if a key exists by using the `in` operator. This evaluates to `True` or `False`."
   ]
  },
  {
   "cell_type": "code",
   "execution_count": null,
   "id": "97702a87",
   "metadata": {},
   "outputs": [],
   "source": [
    "'IBM' in stocks_dict"
   ]
  },
  {
   "cell_type": "markdown",
   "id": "d5dfa4ea",
   "metadata": {},
   "source": [
    "## Assignment\n",
    "We can use `=` to have multiple variables refer to the same dictionary, as demonstrated a few cells back. Realize that any operation on one of those variables affects them all as they refer to the same underlying dictionary object."
   ]
  },
  {
   "cell_type": "markdown",
   "id": "f6470a01",
   "metadata": {},
   "source": [
    "Rename stocks to a more descriptive name."
   ]
  },
  {
   "cell_type": "code",
   "execution_count": null,
   "id": "28bca0fc",
   "metadata": {},
   "outputs": [],
   "source": [
    "dow_stocks = stocks"
   ]
  },
  {
   "cell_type": "markdown",
   "id": "fc8e5644",
   "metadata": {},
   "source": [
    "However, note that `dow_stocks` and `stocks` still refer to the same object(dictionary):"
   ]
  },
  {
   "cell_type": "code",
   "execution_count": null,
   "id": "eec31976",
   "metadata": {},
   "outputs": [],
   "source": [
    "print(id(stocks))\n",
    "print(id(dow_stocks))"
   ]
  },
  {
   "cell_type": "code",
   "execution_count": null,
   "id": "bccf28d1",
   "metadata": {},
   "outputs": [],
   "source": [
    "s1 = {'AXP': 'American Express', 'AMGN': 'Amgen', 'AAPL': 'Apple'}\n",
    "s2 = s1\n",
    "s2['IBM'] = \"International Business Machines\"\n",
    "print(s1)\n",
    "s1.clear()\n",
    "print(s2)"
   ]
  },
  {
   "cell_type": "markdown",
   "id": "0085f9c2",
   "metadata": {},
   "source": [
    "## Copying\n",
    "To copy a dictionary to a new object, we can use the `copy()` method.  Copy creates a shallow copy that copies reference values, but not necessarily the objects to which those references point.  For the simple dictionaries seen so far, we will not have any issues with mutability as strings are immutable. However, if you store mutable objects as values, you may have problems with unintended side-effect."
   ]
  },
  {
   "cell_type": "code",
   "execution_count": null,
   "id": "b3fa81eb",
   "metadata": {},
   "outputs": [],
   "source": [
    "s1 = {'AXP': 'American Express', 'AMGN': 'Amgen', 'AAPL': 'Apple'}\n",
    "s2 = s1.copy()\n",
    "s2['IBM'] = \"International Business Machines\"\n",
    "print(s1)\n",
    "print(s2)\n",
    "s1.clear()\n",
    "print(s1)\n",
    "print(s2)"
   ]
  },
  {
   "cell_type": "markdown",
   "id": "589dff95",
   "metadata": {},
   "source": [
    "[Visualize on PythonTutor](https://pythontutor.com/render.html#code=s1%20%3D%20%7B'AXP'%3A%20'American%20Express',%20'AMGN'%3A%20'Amgen',%20'AAPL'%3A%20'Apple'%7D%0As2%20%3D%20s1.copy%28%29%0As2%5B'IBM'%5D%20%3D%20%22International%20Business%20Machines%22%0Aprint%28s1%29%0Aprint%28s2%29%0As1.clear%28%29%0Aprint%28s1%29%0Aprint%28s2%29&cumulative=false&curInstr=0&heapPrimitives=true&mode=display&origin=opt-frontend.js&py=3&rawInputLstJSON=%5B%5D&textReferences=false)\n",
    "\n",
    "You may need to use a deep copy if you store mutable objects (e.g., a list or another dictionary)."
   ]
  },
  {
   "cell_type": "code",
   "execution_count": null,
   "id": "b67afbcd",
   "metadata": {},
   "outputs": [],
   "source": [
    "import copy\n",
    "s1 = {'A': {'AX': 'American Express', 'AMGN': 'Amgen', 'AAPL': 'Apple'}}\n",
    "s2 = copy.deepcopy(s1)\n",
    "s2['A']['AA']='Alcoa Corp'\n",
    "print(s1)\n",
    "print(s2)"
   ]
  },
  {
   "cell_type": "markdown",
   "id": "8bfbd9eb",
   "metadata": {},
   "source": [
    "[Visualize on PythonTutor](https://pythontutor.com/render.html#code=import%20copy%0As1%20%3D%20%7B'A'%3A%20%7B'AX'%3A%20'American%20Express',%20'AMGN'%3A%20'Amgen',%20'AAPL'%3A%20'Apple'%7D%7D%0As2%20%3D%20copy.deepcopy%28s1%29%0As2%5B'A'%5D%5B'AA'%5D%3D'Alcoa%20Corp'%0Aprint%28s1%29%0Aprint%28s2%29&cumulative=false&curInstr=0&heapPrimitives=true&mode=display&origin=opt-frontend.js&py=3&rawInputLstJSON=%5B%5D&textReferences=false)\n",
    "\n",
    "In the above example, we have a dictionary of dictionaries.\n",
    "\n",
    "So `s2['A']` refers to a dictionary(stocks that begin with the letter 'A'), then `s2['A']['AA']` refers to an entry in that \"sub\" dictionary.  As that entry does not exist, it is created and assigned the value of 'Alcoa Corp'.\n",
    "\n",
    "In the following cell, print the dictionary for the stock symbols beginning with 'A' - i.e., just that dictionary that the key 'A' indexes.  Then print out the value for 'AX'."
   ]
  },
  {
   "cell_type": "code",
   "execution_count": null,
   "id": "9592d837",
   "metadata": {},
   "outputs": [],
   "source": [
    "# Get the value that contains the dictionary in the dictionary s1.  Print the value\n",
    "\n",
    "# From that dictionary, print out the value of the key 'AX'\n"
   ]
  },
  {
   "cell_type": "markdown",
   "id": "519df2eb",
   "metadata": {},
   "source": [
    "## Comparing\n",
    "Unlike some of the other built-in data types that hold multiple values (e.g., lists and tuples), we can only test dictionaries for equality with `==` and `!=`. "
   ]
  },
  {
   "cell_type": "code",
   "execution_count": null,
   "id": "d9f841bf",
   "metadata": {},
   "outputs": [],
   "source": [
    "s1 = {'AXP': 'American Express', 'AMGN': 'Amgen', 'AAPL': 'Apple'}\n",
    "s2 = s1.copy()\n",
    "print (s1 == s2)\n",
    "s2['AA'] = 'Alcoa Corp'\n",
    "print (s1 != s2)\n",
    "print (s1 != s1)"
   ]
  },
  {
   "cell_type": "markdown",
   "id": "2562f2aa",
   "metadata": {},
   "source": [
    "## Sorting\n",
    "To sort dictionaries, we first need to ask what are we sorting? We also need to ask what do we need to do with that sort?\n",
    "\n",
    "For example, if we need to sort by the dictionary's keys and then print out information from the corresponding values, we can use the following pattern:"
   ]
  },
  {
   "cell_type": "code",
   "execution_count": null,
   "id": "e8828f76",
   "metadata": {},
   "outputs": [],
   "source": [
    "stock_prices = {'PG': 141.96, 'AXP': 154.42, 'AAPL': 137.13,'CSCO':43.49, 'HD':289.24, 'AMZN': 2538.23}\n",
    "print(stock_prices)\n",
    "for key in sorted(stock_prices):\n",
    "    print(\"{}: Stock price: ${:,.2f}\".format(key,stock_prices[key]))"
   ]
  },
  {
   "cell_type": "markdown",
   "id": "b3c718c4",
   "metadata": {},
   "source": [
    "To get a list of the sorted values, we need to get all of the values and then use the built-in function `sorted()` as we did for lists.\n",
    "\n",
    "[Python's Guide for Sorting](https://docs.python.org/3/howto/sorting.html)"
   ]
  },
  {
   "cell_type": "code",
   "execution_count": null,
   "id": "bcb37b82",
   "metadata": {},
   "outputs": [],
   "source": [
    "stock_prices = {'PG': 141.96, 'AXP': 154.42, 'AAPL': 137.13,'CSCO':43.49, 'HD':289.24, 'AMZN': 2538.23}\n",
    "print(stock_prices)\n",
    "print(sorted(stock_prices.values()))\n",
    "print(sorted(stock_prices.values(),reverse=True))"
   ]
  },
  {
   "cell_type": "markdown",
   "id": "ac790887",
   "metadata": {},
   "source": [
    "To sort by values but produce a list of the corresponding keys, we need to pass a function as the \"key\" argument. (Later notebooks will discuss passing functions in more detail)"
   ]
  },
  {
   "cell_type": "code",
   "execution_count": null,
   "id": "bdc7a6bb",
   "metadata": {},
   "outputs": [],
   "source": [
    "sorted(stock_prices,key=stock_prices.get)"
   ]
  },
  {
   "cell_type": "markdown",
   "id": "9a5d8ce0",
   "metadata": {},
   "source": [
    "To understand the previous command and what occurred, try running just `sorted(stock_prices)`."
   ]
  },
  {
   "cell_type": "code",
   "execution_count": null,
   "id": "b20af014",
   "metadata": {},
   "outputs": [],
   "source": [
    "# Sort the dictionary without any arguments\n"
   ]
  },
  {
   "cell_type": "markdown",
   "id": "1f893030",
   "metadata": {},
   "source": [
    "We can also produce a list of tuples, where each tuple is a key-value pair.  As shown above, to get the key-value pairs, call `items()` on the dictionary:"
   ]
  },
  {
   "cell_type": "code",
   "execution_count": null,
   "id": "e4168d79",
   "metadata": {},
   "outputs": [],
   "source": [
    "print (stock_prices.items())\n",
    "items = stock_prices.items()\n",
    "\n",
    "print(sorted(items))"
   ]
  },
  {
   "cell_type": "markdown",
   "id": "623ad1e5",
   "metadata": {},
   "source": [
    "By default, sorted uses the first item in the sequence. Similar behavior to sorting a dictionary, it just uses the key.\n",
    "\n",
    "To sort by the second entry in the tuple, we need to specify a function to the key argument"
   ]
  },
  {
   "cell_type": "code",
   "execution_count": null,
   "id": "39a37e17",
   "metadata": {},
   "outputs": [],
   "source": [
    "def sortAtSecondPosition(x):\n",
    "    return x[1]"
   ]
  },
  {
   "cell_type": "code",
   "execution_count": null,
   "id": "182a1bc7",
   "metadata": {},
   "outputs": [],
   "source": [
    "sorted(stock_prices.items(), key=sortAtSecondPosition)"
   ]
  },
  {
   "cell_type": "markdown",
   "id": "fb82c16e",
   "metadata": {},
   "source": [
    "Python provides a capability to create small, anonymous functions. While these functions can take any number of arguments, they can consist of only a single expression.\n",
    "```\n",
    "lambda p1{, pX}: expression\n",
    "```\n",
    "The ```{, pX}``` signifies the portion may repeat zero or more times.  p1, p2, ..., pX represent parameters."
   ]
  },
  {
   "cell_type": "code",
   "execution_count": null,
   "id": "0f9cb51d",
   "metadata": {},
   "outputs": [],
   "source": [
    "sorted(stock_prices.items(), key=lambda x: x[1])"
   ]
  },
  {
   "cell_type": "markdown",
   "id": "ec71c73c",
   "metadata": {},
   "source": [
    "*Note:* As of Python 3.7, the order of iterating over a dictionary's keys is gauranteed to be the same as the insert order. From a practicality point, though, if you ever explicitly need to specify the order (e.g., sorted), you should do so in code. Yes, the code may run a bit slower, but you avoid obtuse errors introduced by relying upon the insert order."
   ]
  },
  {
   "cell_type": "code",
   "execution_count": null,
   "id": "9a2fb0af",
   "metadata": {},
   "outputs": [],
   "source": [
    "stock_prices = { 'AAPL': 137.13, 'AXP': 154.42, 'AMZN': 2538.23,'CSCO':43.49, 'HD':289.24, 'PG': 141.96}\n",
    "print(stock_prices)\n",
    "# Prefer this approach\n",
    "for key in sorted(stock_prices):\n",
    "    print(\"{}: Stock price: ${:,.2f}\".format(key,stock_prices[key]))\n",
    "print(\"-------------------\")\n",
    "# over this (even though the results appear the same)\n",
    "for key in stock_prices:\n",
    "    print(\"{}: Stock price: ${:,.2f}\".format(key,stock_prices[key]))"
   ]
  },
  {
   "cell_type": "markdown",
   "id": "0d7dfefe",
   "metadata": {},
   "source": [
    "## Nesting different data structures\n",
    "Most of the dictionaries in this notebook have been straightforward key-value pairs of strings.  However, realize that we can create arbitrarily complex data structures by nesting additional data structures as entries.\n",
    "\n",
    "Lists can contain other lists, but they can also include a dictionary as an entry.\n",
    "\n",
    "Dictionaries can have lists as values as well as other dictionaries as those values.  For example, to manage the organizational hierarchy for a company, we could have $n$-nested dictionary, where $n$ is the number of levels in the company's hierarchy. The keys in the nested dictionary are the direct reports of an individual."
   ]
  },
  {
   "cell_type": "markdown",
   "id": "37581f3b",
   "metadata": {},
   "source": [
    "## Exercises\n",
    "\n",
    "1. Create a dictionary that maps [top-level domain names](https://en.wikipedia.org/wiki/List_of_Internet_top-level_domains) to their description.  Include at least three entries.\n",
    "\n",
    "2. Now add another entry into your dictionary.\n",
    "\n",
    "3. now delete one of the first entries you created from your dictionary\n",
    "\n",
    "4. Iterate through your dictionary, printing the domain name and the corresponding description.\n",
    "5. Create a dictionary where the keys are the numbers 1 to 10, and the values are the square of the corresponding key.\n",
    "6. Find the minimum and maximum values in a dictionary.\n",
    "7. For a given list of keys, delete those entries from the dictionary.\n",
    "8. How could we check if a given value exists in the dictionary? How expensive is this operation? How could you measure it?\n",
    "\n",
    "9. Physical money comes in many different denominations. Write a function that, for a given amount, returns a dictionary containing the smallest number of bills and coins that add up to that number. Do not place any entries in the dictionary that are zero. The possible denominations are 100.00, 50.00, 20.00, 10.00, 5.00, 2.00, 1.00, 0.25, 0.10, 0.05, and 0.01. "
   ]
  },
  {
   "cell_type": "markdown",
   "id": "449807cb",
   "metadata": {},
   "source": [
    "10. Write a method to create a text-based horizontal histogram.  You should have the following function signature:\n",
    "```\n",
    "def create_histogram(data, title, sort=False, max_table_width=70, max_label_width=10):\n",
    "```\n",
    "\n",
    "So the following - \n",
    "```\n",
    "data = { \"apples\": 58, \"pears\": 10, \"grapes\":35, \"pineapple\":70}\n",
    "create_histogram(data,\"Number of Fruits in Basket\", max_table_width=80, max_label_width=7)\n",
    "```\n",
    "produces\n",
    "```\n",
    "                           Number of Fruits in Basket                           \n",
    "\n",
    " apples │*********************************************************** 58\n",
    "  pears │********** 10\n",
    " grapes │************************************ 35\n",
    "pineapp │************************************************************************ 70\n",
    "        └───────────────────────────────────┰───────────────────────────────────┐\n",
    "        0                                  35                                  70\n",
    "```\n",
    "Then\n",
    "```\n",
    "create_histogram(data,\"Number of Fruits in Basket\", sort=True, max_table_width=85, max_label_width=7)\n",
    "```\n",
    "produces\n",
    "```\n",
    "                              Number of Fruits in Basket                             \n",
    "\n",
    "  pears │*********** 10\n",
    " grapes │************************************** 35\n",
    " apples │*************************************************************** 58\n",
    "pineapp │***************************************************************************** 70\n",
    "        └─────────────────────────────────────┰──────────────────────────────────────┐\n",
    "        0                                    35                                     70\n",
    "```\n",
    "\n",
    "[Unicode Characters: Box Drawing](https://web.archive.org/web/20220403113744/https://jrgraphix.net/r/Unicode/2500-257F)\n",
    "\n",
    "Assume all values are positive. As you start this problem, break it down into sub-problems and solve those individually. Create some wins for yourself. For example, how would you produce the row labels along the left-hand side? What other sub-problems exist? What should you tackle next?\n",
    "\n",
    "This exercise brings together many different topics: functions, default parameters, math operations, variables, string methods, string formatting iteration, dictionaries"
   ]
  }
 ],
 "metadata": {
  "kernelspec": {
   "display_name": "Python 3 (ipykernel)",
   "language": "python",
   "name": "python3"
  },
  "language_info": {
   "codemirror_mode": {
    "name": "ipython",
    "version": 3
   },
   "file_extension": ".py",
   "mimetype": "text/x-python",
   "name": "python",
   "nbconvert_exporter": "python",
   "pygments_lexer": "ipython3",
   "version": "3.10.7"
  }
 },
 "nbformat": 4,
 "nbformat_minor": 5
}
