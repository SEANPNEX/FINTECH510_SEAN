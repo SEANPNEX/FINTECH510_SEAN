{
 "cells": [
  {
   "cell_type": "markdown",
   "id": "db9deb14",
   "metadata": {},
   "source": [
    "## Exercises\n",
    "1. A typing mistakes of those who learned typing on actual typewriters is to use two spaces after a period. With modern, proportionally-spaced fonts, this spacing is no longer needed.  Write a function `eliminate_spaces(value)` that condenses any multiple spaces into a single space and then returns the resulting value. \"  test   \" returns \" test \".  \"Once   upon a    time\" returns \"Once upon a time\".  You must use a regular expression within the method."
   ]
  },
  {
   "cell_type": "code",
   "execution_count": null,
   "id": "a8bbab16",
   "metadata": {},
   "outputs": [],
   "source": [
    "import re\n",
    "\n",
    "def eliminate_spaces(value):\n",
    "    if not isinstance(value,str):\n",
    "        raise ValueError(\"value needs to be a str object.\")\n",
    "   \n",
    "    return re.sub(\" +\",\" \",value)\n",
    "\n",
    "print(\"**{:s}**\".format(eliminate_spaces(\"   test   \")))\n",
    "print(\"**{:s}**\".format(eliminate_spaces(\"Once     upon a   time\")))"
   ]
  },
  {
   "cell_type": "markdown",
   "id": "709346ab",
   "metadata": {},
   "source": [
    "2. Write a function 'extract_urls(text)' that returns all URLs from the parameter. The urls should be in the format of `http[s]://value1.domain`.  The `value1` can repeat one or more times.  `domain` must be lowercase ASCII Letters (e.g., a-z) and have between 2 and 6 characters in length.  (Note: This last rule is just a convenience.  The complete list of top level domain names is available at http://www.iana.org/domains/root/db)"
   ]
  },
  {
   "cell_type": "code",
   "execution_count": null,
   "id": "acd85ce2",
   "metadata": {},
   "outputs": [],
   "source": [
    "import re\n",
    "\n",
    "def extract_urls(text):\n",
    "    if not isinstance(text,str):\n",
    "        raise ValueError(\"text needs to be a str object.\")\n",
    "    result = []\n",
    "    for m in re.finditer(r\"\\bhttps?://([a-z]+\\.)+[a-z]{2,6}\\b\", text):\n",
    "        result.append(m.group(0))\n",
    "    return result\n",
    "\n",
    "print(extract_urls(\"https://irishwildact.com is the greatest blog, but http://wsj.com\"))\n",
    "print(extract_urls(\"I wonder if https://test.madness is a url, but http://test.com should be found\"))"
   ]
  },
  {
   "cell_type": "markdown",
   "id": "8afaee73",
   "metadata": {},
   "source": [
    "3. Write a function `convert_date_format(text)` that converts a string (representing a date) in the format of \"yyyy-mm-dd\" to \"dd-mm-yyyy\".  You should use group to extract the values. If the pattern is not, just return the original string.  You should assume that we are only searching for a single date and just returning that date value."
   ]
  },
  {
   "cell_type": "code",
   "execution_count": null,
   "id": "8518c081",
   "metadata": {},
   "outputs": [],
   "source": [
    "import re\n",
    "\n",
    "def convert_date_format(text):\n",
    "    if not isinstance(text,str):\n",
    "        raise ValueError(\"text needs to be a str object.\")\n",
    "        \n",
    "    date_pattern = re.compile(\"(\\d\\d\\d\\d)-(\\d\\d)-(\\d\\d)\")\n",
    "    m = date_pattern.search(text)\n",
    "    if m:\n",
    "        return \"{:s}-{:s}-{:s}\".format(m.group(3),m.group(2),m.group(1))\n",
    "    else:\n",
    "        return text\n",
    "\n",
    "print(convert_date_format(\"2000-10-12\"))\n",
    "print(convert_date_format(\"test\"))"
   ]
  },
  {
   "cell_type": "markdown",
   "id": "e80948d5",
   "metadata": {},
   "source": [
    "4. Write a function `extract_ticker_symbols(text)` that returns a set of all ticker symbols from a string.  A ticker string must meet these conditions: 1) Be uppercase ASCII letter (A-Z).  2) Between 1 and 5 characters in length.  3) have a word boundary at the start and the end. You may assume `text` is a `str` object."
   ]
  },
  {
   "cell_type": "code",
   "execution_count": null,
   "id": "6f5a3303",
   "metadata": {},
   "outputs": [],
   "source": [
    "import re\n",
    "\n",
    "def extract_ticker_symbols(text):\n",
    "    if not isinstance(text,str):\n",
    "        raise ValueError(\"text needs to be a str object.\")\n",
    "    result = []\n",
    "    for m in re.finditer(r\"\\b[A-Z]{1,5}\\b\", text):\n",
    "        result.append(m.group(0))\n",
    "    return result\n",
    "\n",
    "print(extract_ticker_symbols(\"T was here. JNJ is another TSLA.\"))"
   ]
  },
  {
   "cell_type": "markdown",
   "id": "1b521661",
   "metadata": {},
   "source": [
    "5. Write a function `extract_adverbs(text)` that finds all words ending in \"ly\".  The return value should be a list of tuples.  Each tuple should have the start position, end position and the word  (in that order). If `text` is not a `str` object you should raise a ValueError."
   ]
  },
  {
   "cell_type": "code",
   "execution_count": null,
   "id": "f4a6b6c1",
   "metadata": {},
   "outputs": [],
   "source": [
    "import re\n",
    "\n",
    "def extract_adverbs(text):\n",
    "    if not isinstance(text,str):\n",
    "        raise ValueError(\"text needs to be a str object.\")\n",
    "    result = []\n",
    "    for m in re.finditer(r\"\\w+ly\", text):\n",
    "        result.append((m.start(), m.end(), m.group(0)))\n",
    "    return result\n",
    "\n",
    "print(extract_adverbs(\"Clearly, he has no execuse for such poorly written text.\"))\n",
    "print(extract_adverbs(\"He has no execuse.\"))\n",
    "print(extract_adverbs(\"ally\"))\n",
    "print(extract_adverbs(4))\n",
    "    "
   ]
  },
  {
   "cell_type": "code",
   "execution_count": null,
   "id": "ad27fe4d",
   "metadata": {},
   "outputs": [],
   "source": []
  }
 ],
 "metadata": {
  "kernelspec": {
   "display_name": "Python 3 (ipykernel)",
   "language": "python",
   "name": "python3"
  },
  "language_info": {
   "codemirror_mode": {
    "name": "ipython",
    "version": 3
   },
   "file_extension": ".py",
   "mimetype": "text/x-python",
   "name": "python",
   "nbconvert_exporter": "python",
   "pygments_lexer": "ipython3",
   "version": "3.10.4"
  }
 },
 "nbformat": 4,
 "nbformat_minor": 5
}
