{
 "cells": [
  {
   "cell_type": "markdown",
   "id": "a56b12a1",
   "metadata": {},
   "source": [
    "## Exercises \n",
    "1. For the current working directory, print each of the files on a separate line.  Each line should start with the size of that file in bytes, followed by a tab character, and then the name of the file. Subdirectories should not be displayed. After all of the lines have been, print a blank line and then this line: \n",
    "<pre>\n",
    "Directory size: XXXX\n",
    "</pre>\n",
    "where XXX is the total of all of the file sizes (excluding subdirectories).  The listing should be in sorted order of the files.\n",
    "\n"
   ]
  },
  {
   "cell_type": "code",
   "execution_count": null,
   "id": "c7ab6af5",
   "metadata": {},
   "outputs": [],
   "source": [
    "import os\n",
    "\n",
    "total_size = 0\n",
    "listing = os.listdir('.')\n",
    "for item in sorted(listing):\n",
    "    if os.path.isfile(item):\n",
    "        stat_obj = os.stat(item)\n",
    "        total_size = total_size + stat_obj.st_size\n",
    "        print(stat_obj.st_size,item,sep='\\t')\n",
    "print(\"Directory Size:\",total_size)"
   ]
  },
  {
   "cell_type": "code",
   "execution_count": null,
   "id": "93691a3b",
   "metadata": {},
   "outputs": [],
   "source": []
  }
 ],
 "metadata": {
  "kernelspec": {
   "display_name": "Python 3 (ipykernel)",
   "language": "python",
   "name": "python3"
  },
  "language_info": {
   "codemirror_mode": {
    "name": "ipython",
    "version": 3
   },
   "file_extension": ".py",
   "mimetype": "text/x-python",
   "name": "python",
   "nbconvert_exporter": "python",
   "pygments_lexer": "ipython3",
   "version": "3.10.4"
  }
 },
 "nbformat": 4,
 "nbformat_minor": 5
}
