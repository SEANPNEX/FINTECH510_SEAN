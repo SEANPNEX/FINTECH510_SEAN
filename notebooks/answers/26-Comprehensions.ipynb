{
 "cells": [
  {
   "cell_type": "markdown",
   "id": "1fbf734b",
   "metadata": {},
   "source": [
    "## Exercises\n",
    "1. Write a list comprehension that create a list of tuples.  Each tuple's first element is the numbers 10,20,30,40,50,60,70,80,90,100.  The second value of the tuple is the first number squared"
   ]
  },
  {
   "cell_type": "code",
   "execution_count": 28,
   "id": "a4faa18e",
   "metadata": {},
   "outputs": [
    {
     "data": {
      "text/plain": [
       "[(10, 100),\n",
       " (20, 400),\n",
       " (30, 900),\n",
       " (40, 1600),\n",
       " (50, 2500),\n",
       " (60, 3600),\n",
       " (70, 4900),\n",
       " (80, 6400),\n",
       " (90, 8100),\n",
       " (100, 10000)]"
      ]
     },
     "execution_count": 28,
     "metadata": {},
     "output_type": "execute_result"
    }
   ],
   "source": [
    "[ (number, number**2) for number in range(10,101,10)  ]"
   ]
  },
  {
   "cell_type": "markdown",
   "id": "b906f451",
   "metadata": {},
   "source": [
    "2. Write a list comprehension that creates a list of numbers from 1 to 30 that are multiples of 3 and divisible by 2"
   ]
  },
  {
   "cell_type": "code",
   "execution_count": 31,
   "id": "fd0995ad",
   "metadata": {},
   "outputs": [
    {
     "data": {
      "text/plain": [
       "[0, 6, 12, 18, 24, 30]"
      ]
     },
     "execution_count": 31,
     "metadata": {},
     "output_type": "execute_result"
    }
   ],
   "source": [
    "[ number for number in range(0,31,3) if number % 2 ==0  ]"
   ]
  },
  {
   "cell_type": "code",
   "execution_count": 32,
   "id": "379c36b3",
   "metadata": {},
   "outputs": [
    {
     "data": {
      "text/plain": [
       "[0, 6, 12, 18, 24, 30]"
      ]
     },
     "execution_count": 32,
     "metadata": {},
     "output_type": "execute_result"
    }
   ],
   "source": [
    "[ number for number in range(0,31,2) if number % 3 ==0  ]"
   ]
  },
  {
   "cell_type": "code",
   "execution_count": null,
   "id": "320b1535",
   "metadata": {},
   "outputs": [],
   "source": []
  }
 ],
 "metadata": {
  "kernelspec": {
   "display_name": "Python 3 (ipykernel)",
   "language": "python",
   "name": "python3"
  },
  "language_info": {
   "codemirror_mode": {
    "name": "ipython",
    "version": 3
   },
   "file_extension": ".py",
   "mimetype": "text/x-python",
   "name": "python",
   "nbconvert_exporter": "python",
   "pygments_lexer": "ipython3",
   "version": "3.10.4"
  }
 },
 "nbformat": 4,
 "nbformat_minor": 5
}
