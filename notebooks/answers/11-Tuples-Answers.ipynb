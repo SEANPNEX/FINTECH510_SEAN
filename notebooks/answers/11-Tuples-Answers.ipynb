{
 "cells": [
  {
   "cell_type": "markdown",
   "id": "063830d7",
   "metadata": {},
   "source": [
    "# Tuples\n",
    "1. Given the following tuple ('AAPL', 157.96, 88_140_000) assign the items to three variables and then print the values"
   ]
  },
  {
   "cell_type": "code",
   "execution_count": null,
   "id": "6da5b5d5",
   "metadata": {},
   "outputs": [],
   "source": [
    "# Extracting the values by position and then all at once\n",
    "data = ('AAPL', 157.96, 88_140_000)\n",
    "stock_symbol = data[0]\n",
    "closing_price = data[1]\n",
    "volume = data[2]\n",
    "print (stock_symbol, closing_price, volume)\n",
    "stock_symbol, closing_price, volume = data\n",
    "print (stock_symbol, closing_price, volume)\n"
   ]
  },
  {
   "cell_type": "markdown",
   "id": "09e46236",
   "metadata": {},
   "source": [
    "2. Test if the stock symbol \"BAC\" is in the data tuple."
   ]
  },
  {
   "cell_type": "code",
   "execution_count": null,
   "id": "69aa1f4f",
   "metadata": {},
   "outputs": [],
   "source": [
    "print(data.count(\"BAC\"))\n",
    "print(\"BAC\" in data)"
   ]
  },
  {
   "cell_type": "code",
   "execution_count": null,
   "id": "e423b656",
   "metadata": {},
   "outputs": [],
   "source": [
    "print(data.index(\"BAC\"))"
   ]
  },
  {
   "cell_type": "markdown",
   "id": "924f2e19",
   "metadata": {},
   "source": [
    "The last method will cause a \"ValueError\" if the value is not in the tuple (or list).  We'll learn how to catch these errors in later notebooks."
   ]
  },
  {
   "cell_type": "markdown",
   "id": "3c3593c8",
   "metadata": {},
   "source": [
    "3. Using the following tuple, create a new tuple of the 3rd to 5th elements.<br>\n",
    "```\n",
    "acc_schools = (\"Duke\", \"Notre Dame\", \"UNC\", \"NCSU\", \"Wake Forest\", \"Clemson\")\n",
    "```"
   ]
  },
  {
   "cell_type": "code",
   "execution_count": null,
   "id": "2435b6d0",
   "metadata": {},
   "outputs": [],
   "source": [
    "acc_schools = (\"Duke\", \"Notre Dame\", \"UNC\", \"NCSU\", \"Wake Forest\", \"Clemson\")\n",
    "acc_schools[2:5]"
   ]
  },
  {
   "cell_type": "code",
   "execution_count": null,
   "id": "84390d1c",
   "metadata": {},
   "outputs": [],
   "source": []
  }
 ],
 "metadata": {
  "kernelspec": {
   "display_name": "Python 3 (ipykernel)",
   "language": "python",
   "name": "python3"
  },
  "language_info": {
   "codemirror_mode": {
    "name": "ipython",
    "version": 3
   },
   "file_extension": ".py",
   "mimetype": "text/x-python",
   "name": "python",
   "nbconvert_exporter": "python",
   "pygments_lexer": "ipython3",
   "version": "3.10.4"
  }
 },
 "nbformat": 4,
 "nbformat_minor": 5
}
