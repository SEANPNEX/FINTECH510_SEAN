{
 "cells": [
  {
   "cell_type": "markdown",
   "id": "c8a9f111",
   "metadata": {},
   "source": [
    "<div class=\"pagebreak\"></div>\n",
    "\n",
    "# Sets\n",
    "A set is an unordered collection of objects with no duplicates.\n",
    "\n",
    "Sets support many of the same operations that lists and tuples have, but set objects also support mathematical operations such as union, intersection, and difference.  Since sets are unordered, index operations to retrieve and insert elements at specific points in the collection do not make sense and have no implementation.\n",
    "\n",
    "Another way to think about sets is to equate them to a dictionary with its keys but no values corresponding to those keys.\n",
    "\n",
    "[Set theory](https://en.wikipedia.org/wiki/Set_theory) plays a pivotal role in many computer science applications - most significantly relational databases, but programmers use sets for various purposes. For example, we can create a unique collection (no repeated elements) from a list by converting it to a set.\n",
    "\n",
    "To create a set, use the built-in function `set()` or enclose a comma-separated list of values within curly brackets. The `set()` function iterates through the the value of its argument and adds members to the set, removing duplicates.\n",
    "\n",
    "To create an empty set, you must use the `set()` function as `{}` creates an empty dictionary."
   ]
  },
  {
   "cell_type": "code",
   "execution_count": null,
   "id": "7b16b751",
   "metadata": {},
   "outputs": [],
   "source": [
    "empty_set = set()\n",
    "primes = {1,2,3,5,7,13,11,13,17,19}\n",
    "colors = set((\"red\",\"green\",\"blue\",\"red\")) # without the inner parenthesis, we have 4 arguments.  Set expects an single iterable.\n",
    "\n",
    "print(colors)"
   ]
  },
  {
   "cell_type": "code",
   "execution_count": null,
   "id": "34eb33e2",
   "metadata": {},
   "outputs": [],
   "source": [
    "set('abracadabra')"
   ]
  },
  {
   "cell_type": "markdown",
   "id": "0fe1bd50",
   "metadata": {},
   "source": [
    "In the above example, we pass a string, an iterable sequence of characters. Only five unique characters exist in the string. "
   ]
  },
  {
   "cell_type": "markdown",
   "id": "010bf0c7",
   "metadata": {},
   "source": [
    "As members must be unique within a set, we cannot place mutable objects into a set.  Otherwise, the value of that item could change and affect the set's uniqueness.  In the second example, we create a set of a single tuple.  Tuples are immutable."
   ]
  },
  {
   "cell_type": "code",
   "execution_count": null,
   "id": "fff2729b",
   "metadata": {},
   "outputs": [],
   "source": [
    "invalid_set = {['test', 'word']}    # raises a TypeError, sets cannot contain mutable members"
   ]
  },
  {
   "cell_type": "code",
   "execution_count": null,
   "id": "5a0eeb3e",
   "metadata": {},
   "outputs": [],
   "source": [
    "valid_set = { ('test', 'word')}"
   ]
  },
  {
   "cell_type": "markdown",
   "id": "a1e1c9f2",
   "metadata": {},
   "source": [
    "## Getting the size (number of entries) of a set\n",
    "As with the other data structures, we can get the number of entries (length, size) of a set by using the `len()` function "
   ]
  },
  {
   "cell_type": "code",
   "execution_count": null,
   "id": "98b7063b",
   "metadata": {},
   "outputs": [],
   "source": [
    "len(primes)"
   ]
  },
  {
   "cell_type": "markdown",
   "id": "16161343",
   "metadata": {},
   "source": [
    "## Adding to a set\n",
    "Use the `add()` method on a set to add another element.  To add multiple items, use the `update()` method."
   ]
  },
  {
   "cell_type": "code",
   "execution_count": null,
   "id": "5ac391bd",
   "metadata": {},
   "outputs": [],
   "source": [
    "primes.add(23)\n",
    "primes.update([29,31,37])\n",
    "primes"
   ]
  },
  {
   "cell_type": "markdown",
   "id": "359149f5",
   "metadata": {},
   "source": [
    "## Deleting from a set\n",
    "Use `remove()` to delete (remove) an item from a set by the value. If the value does not exist, the Python interpreter raises a `KeyError`.  `discard()` will remove a value from a set, but will not raise an error if the value does not exist.\n",
    "\n",
    "To remove multiple items, use `difference_update()`"
   ]
  },
  {
   "cell_type": "code",
   "execution_count": null,
   "id": "4626f789",
   "metadata": {},
   "outputs": [],
   "source": [
    "primes.add(4)\n",
    "print(primes)\n",
    "primes.remove(4)\n",
    "print(primes)\n",
    "primes.difference_update([6,8,29,31,37])\n",
    "print(primes)"
   ]
  },
  {
   "cell_type": "markdown",
   "id": "e2965e94",
   "metadata": {},
   "source": [
    "## Iterating over Sets\n",
    "Just like the other built-in data structures, we can use the `for` statement(loop) to process all of the items in a set."
   ]
  },
  {
   "cell_type": "code",
   "execution_count": null,
   "id": "9f9eb344",
   "metadata": {},
   "outputs": [],
   "source": [
    "for color in colors:\n",
    "    print(color)"
   ]
  },
  {
   "cell_type": "markdown",
   "id": "db76a776",
   "metadata": {},
   "source": [
    "## Checking if a values exists\n",
    "Use the `in` operator to test if a contains a value for not"
   ]
  },
  {
   "cell_type": "code",
   "execution_count": null,
   "id": "fabe69a7",
   "metadata": {},
   "outputs": [],
   "source": [
    "'magenta' in colors"
   ]
  },
  {
   "cell_type": "markdown",
   "id": "75d90c89",
   "metadata": {},
   "source": [
    "## Set Operations\n",
    "Python supports standard math operations on sets: union, intersection, difference, and symmetric difference.\n",
    "\n",
    "Set Operations can be performed either by method calls or opeartors.\n",
    "\n",
    "\n",
    "![](images/set_operations.png)\n",
    "\n",
    "<small>Source:https://www.datacamp.com/community/tutorials/sets-in-python</small>"
   ]
  },
  {
   "cell_type": "code",
   "execution_count": null,
   "id": "1d088a7d",
   "metadata": {},
   "outputs": [],
   "source": [
    "us_flag_colors = set([\"red\", \"white\", \"blue\"])\n",
    "france_flag_colors = set([\"blue\", \"white\", \"red\"])\n",
    "switzerland_flag_colors = set([\"white\", \"red\"])\n",
    "mexico_flag_colors = {\"green\", \"white\", \"red\"}\n",
    "germany_flag_colors = {\"black\", \"red\", \"gold\"}"
   ]
  },
  {
   "cell_type": "markdown",
   "id": "5350267d",
   "metadata": {},
   "source": [
    "### Union\n",
    "Returns a new set with all of the unique elements from both sets.  Can either use the `union()` method or `|`\n",
    "\n",
    "Note: the difference with the `update()` method is that update operates on the set itself, not creating a new set."
   ]
  },
  {
   "cell_type": "code",
   "execution_count": null,
   "id": "994993a3",
   "metadata": {},
   "outputs": [],
   "source": [
    "print(us_flag_colors | germany_flag_colors)\n",
    "print(mexico_flag_colors.union(switzerland_flag_colors))"
   ]
  },
  {
   "cell_type": "markdown",
   "id": "91944547",
   "metadata": {},
   "source": [
    "The union operation can be performed on multiple sets at once:"
   ]
  },
  {
   "cell_type": "code",
   "execution_count": null,
   "id": "9c3c5a91",
   "metadata": {},
   "outputs": [],
   "source": [
    "print(us_flag_colors | germany_flag_colors | france_flag_colors | mexico_flag_colors | switzerland_flag_colors)\n",
    "print(us_flag_colors.union(germany_flag_colors, france_flag_colors, mexico_flag_colors, switzerland_flag_colors))"
   ]
  },
  {
   "cell_type": "markdown",
   "id": "ef98a32d",
   "metadata": {},
   "source": [
    "### Intersection\n",
    "Returns a new set with all of the elements that exist in both sets.  Can use `intersection()` or `&`\n",
    "\n",
    "This operation can be performed on multiple sets as well."
   ]
  },
  {
   "cell_type": "code",
   "execution_count": null,
   "id": "57c327fc",
   "metadata": {},
   "outputs": [],
   "source": [
    "print(us_flag_colors & germany_flag_colors)\n",
    "print(mexico_flag_colors.intersection(switzerland_flag_colors))"
   ]
  },
  {
   "cell_type": "code",
   "execution_count": null,
   "id": "7acdca60",
   "metadata": {},
   "outputs": [],
   "source": [
    "print(us_flag_colors & germany_flag_colors & france_flag_colors & mexico_flag_colors & switzerland_flag_colors)\n",
    "print(us_flag_colors.intersection(germany_flag_colors, france_flag_colors, mexico_flag_colors, switzerland_flag_colors))"
   ]
  },
  {
   "cell_type": "markdown",
   "id": "25acb7c5",
   "metadata": {},
   "source": [
    "### Difference\n",
    "Returns a new set with the elements in the first set that are not in the other set. (Difference removes any elements in the second set from the first set.)  Use `difference()` or `-`\n",
    "\n",
    "Yes, you can chain these operators. The operations evaluate left to right."
   ]
  },
  {
   "cell_type": "code",
   "execution_count": null,
   "id": "275e9d27",
   "metadata": {},
   "outputs": [],
   "source": [
    "print(us_flag_colors - germany_flag_colors)\n",
    "print(mexico_flag_colors.difference(switzerland_flag_colors))\n",
    "\n",
    "print (us_flag_colors - germany_flag_colors - switzerland_flag_colors)"
   ]
  },
  {
   "cell_type": "markdown",
   "id": "f8b89819",
   "metadata": {},
   "source": [
    "### Symmetric Difference\n",
    "Returns a new set with the elements in the first set and elements in the second set, but the elements are not in both sets.  Use `symmetric_difference()` or `^`"
   ]
  },
  {
   "cell_type": "code",
   "execution_count": null,
   "id": "0563625c",
   "metadata": {},
   "outputs": [],
   "source": [
    "print(us_flag_colors ^ germany_flag_colors)\n",
    "print(mexico_flag_colors.symmetric_difference(switzerland_flag_colors))"
   ]
  },
  {
   "cell_type": "markdown",
   "id": "dcd0be58",
   "metadata": {},
   "source": [
    "### Set Operation Discussion\n",
    "\n",
    "Given [De Morgan's Laws](https://en.wikipedia.org/wiki/De_Morgan%27s_laws) for union and intersection, demonstrate these two equations in Python using sets:\n",
    "\n",
    "$\\overline{A \\cup B} = \\overline{A} \\cap \\overline{B}$\n",
    "\n",
    "$\\overline{A \\cap B} = \\overline{A} \\cup \\overline{B}$\n",
    "\n",
    "where\n",
    "* $\\overline{A}$ is the negation of set $A$\n",
    "* $\\cap$ is the intersection operator\n",
    "* $\\cup$ is the union operator\n",
    "\n",
    "At first glance, this problem seems easy - these laws have been around since the 19th century.  However, what does $\\overline{A}$ mean to a computer?  Fundamentally, this is everything in the universe $U$ not in set $A$.  Python, and most other general-purpose programming languages, do not have direct support for such a universal set. Therefore, we need to define the universal set for our problem domain.\n",
    "\n",
    "So, let us practice these laws on the flag colors. We can define a universal set of colors:\n",
    "\n",
    "$U = \\{ red, orange, yellow, green, blue, purple, pink, brown, grey, black, white, gold, silver \\}$\n",
    "\n"
   ]
  },
  {
   "cell_type": "code",
   "execution_count": null,
   "id": "9cf9a4b8",
   "metadata": {},
   "outputs": [],
   "source": [
    "a = { \"green\", \"white\", \"red\"}\n",
    "b = { \"black\", \"red\", \"gold\"}\n",
    "U = { \"red\", \"orange\", \"yellow\", \"green\", \"blue\", \"purple\", \"pink\", \"brown\", \"grey\", \"black\", \"white\", \"gold\", \"silver\" }"
   ]
  },
  {
   "cell_type": "code",
   "execution_count": null,
   "id": "1bd2dd9f",
   "metadata": {},
   "outputs": [],
   "source": [
    "print(U - (a | b) == (U - a) & (U - b))\n",
    "print(U - (a | b))\n",
    "print(a | b)"
   ]
  },
  {
   "cell_type": "code",
   "execution_count": null,
   "id": "62fa0d5b",
   "metadata": {},
   "outputs": [],
   "source": [
    "print(U - (a & b) == (U - a) | (U - b))\n",
    "print(U - (a & b))\n",
    "print(a & b)"
   ]
  },
  {
   "cell_type": "markdown",
   "id": "ddf78d00",
   "metadata": {},
   "source": [
    "Throughout your programming career, you will find De Morgan's laws arising in Boolean operations - an `if` statements will have a condition like `not(A or B)`."
   ]
  },
  {
   "cell_type": "markdown",
   "id": "82be3eac",
   "metadata": {},
   "source": [
    "## Comparing Sets\n",
    "As with lists, we can use the complete range of comparison operators on sets.\n",
    "\n",
    "|Comparison | Method| Description|\n",
    "|:----:|:---|:----|\n",
    "| `a == b` | |Do sets `a` and `b` contain the same members?\n",
    "| `a != b` | |Is there at least one difference between sets `a` and `b`?\n",
    "| `a < b` | `a.issubset(b)`|Is set `a` a proper subset of `b`?\n",
    "| `a <= b` | | Is set `a` a subset or equal to `b`?\n",
    "| `a > b` | `a.issuperset(b)`| Is set `a` a proper superset of `b`?\n",
    "| `a >= b` | |Is set `a` a superset or equal to `b`?"
   ]
  },
  {
   "cell_type": "code",
   "execution_count": null,
   "id": "b6c10d29",
   "metadata": {},
   "outputs": [],
   "source": [
    "print(\"us_flag_colors == france_flag_colors:\",us_flag_colors == france_flag_colors)\n",
    "print(\"us_flag_colors != france_flag_colors:\",us_flag_colors != france_flag_colors)\n",
    "print(\"us_flag_colors <  france_flag_colors:\",us_flag_colors < france_flag_colors)\n",
    "print(\"us_flag_colors <= france_flag_colors:\",us_flag_colors <= france_flag_colors)\n",
    "print(\"us_flag_colors >  france_flag_colors:\",us_flag_colors > france_flag_colors)\n",
    "print(\"us_flag_colors >= france_flag_colors:\",us_flag_colors >= france_flag_colors)\n",
    "\n",
    "print (\"switzerland_flag_colors < us_flag_colors:\", switzerland_flag_colors < us_flag_colors)\n",
    "print (\"us_flag_colors > switzerland_flag_colors:\", us_flag_colors > switzerland_flag_colors)"
   ]
  },
  {
   "cell_type": "markdown",
   "id": "29709adc",
   "metadata": {},
   "source": [
    "## Exercises\n",
    "TODO\n",
    "Thought  create two lists of strings  (common household stuff - book, cup , glass, knife, fork, ...)\n",
    "- create sets\n",
    "- perform various operations\n"
   ]
  },
  {
   "cell_type": "code",
   "execution_count": null,
   "id": "d51dd64e",
   "metadata": {},
   "outputs": [],
   "source": []
  }
 ],
 "metadata": {
  "celltoolbar": "Attachments",
  "kernelspec": {
   "display_name": "Python 3 (ipykernel)",
   "language": "python",
   "name": "python3"
  },
  "language_info": {
   "codemirror_mode": {
    "name": "ipython",
    "version": 3
   },
   "file_extension": ".py",
   "mimetype": "text/x-python",
   "name": "python",
   "nbconvert_exporter": "python",
   "pygments_lexer": "ipython3",
   "version": "3.10.7"
  }
 },
 "nbformat": 4,
 "nbformat_minor": 5
}
