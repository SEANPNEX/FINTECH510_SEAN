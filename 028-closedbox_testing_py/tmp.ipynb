{
 "cells": [
  {
   "cell_type": "code",
   "execution_count": 3,
   "metadata": {},
   "outputs": [],
   "source": [
    "def luhn_checksum(card_number):\n",
    "    def digits_of(n):\n",
    "        return [int(d) for d in str(n)]\n",
    "    digits = digits_of(card_number)\n",
    "    odd_digits = digits[-1::-2]\n",
    "    even_digits = digits[-2::-2]\n",
    "    checksum = 0\n",
    "    checksum += sum(odd_digits)\n",
    "    for d in even_digits:\n",
    "        checksum += sum(digits_of(d*2))\n",
    "    return checksum % 10"
   ]
  },
  {
   "cell_type": "code",
   "execution_count": 4,
   "metadata": {},
   "outputs": [
    {
     "data": {
      "text/plain": [
       "1"
      ]
     },
     "execution_count": 4,
     "metadata": {},
     "output_type": "execute_result"
    }
   ],
   "source": [
    "card=\"3742454554001260\"\n",
    "luhn_checksum(card)"
   ]
  },
  {
   "cell_type": "code",
   "execution_count": 26,
   "metadata": {},
   "outputs": [],
   "source": [
    "def find_longest_period(lst):\n",
    "    \"\"\"\n",
    "       find_longest_period returns the longest series of closing prices in\n",
    "       which the prices continually rose (as determined by the number of days).\n",
    "       If two more more series have the same number of days, return the first\n",
    "       series found.\n",
    "         \n",
    "       Args:\n",
    "         l(list): list of daily closing prices\n",
    "\n",
    "      Returns:\n",
    "      a list containing the series (e.g., part of the original list) that \n",
    "      has the closing stock prices in the order in which they appeared in the \n",
    "      original list \n",
    "\n",
    "      Raises:\n",
    "      TypeError if the list contains an item that is not arithmetically \n",
    "      compatible with ints and floats\n",
    "    \"\"\"\n",
    "\n",
    "    if (lst is None) or len(lst)==0:\n",
    "        return []\n",
    "    prev = min(lst)\n",
    "    existing_longest = []\n",
    "    new_longest = []\n",
    "    counter = 0\n",
    "    for i in lst:\n",
    "        if not isNumeric(i):\n",
    "            raise TypeError\n",
    "        if counter==0:\n",
    "            new_longest.append(i)\n",
    "            counter += 1\n",
    "            continue\n",
    "        if i>prev:\n",
    "            new_longest.append(i)\n",
    "        if i<prev:\n",
    "            new_longest = [i]\n",
    "        if len(new_longest)>len(existing_longest):\n",
    "            existing_longest = new_longest\n",
    "        prev = i\n",
    "        counter += 1\n",
    "    return existing_longest\n",
    "\n",
    "\n",
    "def isNumeric(i):\n",
    "    if (type(i) is int) or (type(i) is float):\n",
    "        return True\n",
    "    else:\n",
    "        return False"
   ]
  },
  {
   "cell_type": "code",
   "execution_count": 29,
   "metadata": {},
   "outputs": [
    {
     "data": {
      "text/plain": [
       "[1, 3.14, 5.29, 8]"
      ]
     },
     "execution_count": 29,
     "metadata": {},
     "output_type": "execute_result"
    }
   ],
   "source": [
    "# a = [5475.25, 5480.40, 5474.00, 5501.23, 5510.30, 5518.42, 5512.41, 5514.92, 5517.76, 5522.44]\n",
    "a=[1, 2.8, 1, 3.14, 5.29, 8, 2, 4, 6, 9]\n",
    "find_longest_period(a)"
   ]
  }
 ],
 "metadata": {
  "kernelspec": {
   "display_name": "py38",
   "language": "python",
   "name": "python3"
  },
  "language_info": {
   "codemirror_mode": {
    "name": "ipython",
    "version": 3
   },
   "file_extension": ".py",
   "mimetype": "text/x-python",
   "name": "python",
   "nbconvert_exporter": "python",
   "pygments_lexer": "ipython3",
   "version": "3.8.0"
  }
 },
 "nbformat": 4,
 "nbformat_minor": 2
}
