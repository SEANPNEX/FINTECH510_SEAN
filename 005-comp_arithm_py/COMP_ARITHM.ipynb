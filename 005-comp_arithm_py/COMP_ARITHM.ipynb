{
 "cells": [
  {
   "cell_type": "code",
   "execution_count": 18,
   "metadata": {},
   "outputs": [],
   "source": [
    "x=5\n",
    "d=2.4\n",
    "with open(\"answers.txt\",\"w\") as f:\n",
    "    f.write(f\"{type(x-2).__name__} {x-2}\\n\")\n",
    "    f.write(f\"{type(x+d).__name__} {x+d}\\n\")\n",
    "    f.write(f\"{type(x/2).__name__} {x/2}\\n\")\n",
    "    f.write(f\"{type(d+x/4).__name__} {d+x/4}\\n\")\n",
    "    f.write(f\"{type(x//3).__name__} {x//3}\\n\")\n",
    "    f.write(f\"{type(x+0x2a).__name__} {x+0x2a}\\n\")\n",
    "    f.write(f\"{type(d+0x2a).__name__} {d+0x2a}\\n\")\n",
    "    f.write(f\"{type(d*2//3).__name__} {d*2//3}\\n\")"
   ]
  }
 ],
 "metadata": {
  "kernelspec": {
   "display_name": "py38",
   "language": "python",
   "name": "python3"
  },
  "language_info": {
   "codemirror_mode": {
    "name": "ipython",
    "version": 3
   },
   "file_extension": ".py",
   "mimetype": "text/x-python",
   "name": "python",
   "nbconvert_exporter": "python",
   "pygments_lexer": "ipython3",
   "version": "3.8.0"
  }
 },
 "nbformat": 4,
 "nbformat_minor": 2
}
