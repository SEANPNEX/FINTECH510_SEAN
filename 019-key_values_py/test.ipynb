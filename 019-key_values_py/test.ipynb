{
 "cells": [
  {
   "cell_type": "code",
   "execution_count": 13,
   "metadata": {},
   "outputs": [],
   "source": [
    "import sys\n",
    "from sys import argv\n",
    "\n",
    "def read_key_values(filename):\n",
    "    \"\"\"\n",
    "    Reads a key-value delimited file (separated by first =) into a dictionary\n",
    "\n",
    "    Args:\n",
    "    filename(str): name of the file to read\n",
    "    \n",
    "    Returns:\n",
    "    dictionary of the read items\n",
    "    \"\"\"\n",
    "    result = {}\n",
    "    with open(filename, \"r\") as f:\n",
    "        for line in f.readlines():\n",
    "            lst_line = line.split(\"=\")\n",
    "            result.update({lst_line[0]: lst_line[1][:-1]})\n",
    "    return result\n",
    "            \n",
    "\n",
    "\n",
    "def create_output_filename(name):\n",
    "    \"\"\"\n",
    "    create the output file name.  Given an input filename such as \"input.txt\",\n",
    "    return \"input.txt.counts\"\n",
    "    \"\"\"\n",
    "    return f\"{name}.counts\"\n",
    "\n",
    "\n",
    "def process_key_file(filename,key_values):\n",
    "    \"\"\"\n",
    "    Loads in a key file and produces a dictionary of the count of the values \n",
    "    If a key is not found in key_values use \"<unknown>\"\n",
    "\n",
    "    Args:\n",
    "    filename(str): file containing keys to process\n",
    "    key_values(dict): existing keys to load\n",
    "    \"\"\"\n",
    "    result = {}\n",
    "    with open(filename, \"r\") as f:\n",
    "        for key in f.readlines():\n",
    "            try:\n",
    "                count_key = key_values[key]\n",
    "            except KeyError:\n",
    "                print(f\"Missed Key: {key}\")\n",
    "                count_key = \"<unknown>\"\n",
    "            try:\n",
    "                count_num = result[count_key]\n",
    "            except KeyError:\n",
    "                print(f\"Key {count_key} not recorded\")\n",
    "                count_num = 0\n",
    "            result.update({count_key: count_num+1})\n",
    "    print(result)\n",
    "    return result\n",
    "\n",
    "\n",
    "def write_output(filename,counts):\n",
    "    \"\"\"\n",
    "    Writes the content of counts to a file specifed by the filename.\n",
    "    The output order is by the highest count descending. If two values are\n",
    "    equal, arbitrarily choose 1.\n",
    "    For each line, the format is\n",
    "      key: value\n",
    "\n",
    "    Args:\n",
    "    filename(str): filename to open and write the output to.\n",
    "    counts(dict): existing keys to load   \n",
    "    Returns: None \n",
    "    \"\"\"\n",
    "    with open(filename, \"w\") as f:\n",
    "        for i in sorted(counts,key=counts.get):\n",
    "            f.write(f\"{i}: {counts.get(i)}\\n\")\n",
    "    return\n",
    "\n",
    "\n",
    "def process(args):\n",
    "    \"\"\"\n",
    "    Implement your algorithm in this function\n",
    "    \"\"\"\n",
    "    # print(args)   #Uncomment if you want to validate/see the command-line arguments\n",
    "    print(args)\n",
    "    key_values = read_key_values(args[1])\n",
    "    print(key_values,\"\\n\")\n",
    "    for i in args[2:]:\n",
    "        counts = process_key_file(i,key_values)\n",
    "        output_name = create_output_filename(i)\n",
    "        print(output_name)\n",
    "        write_output(output_name,counts)"
   ]
  },
  {
   "cell_type": "code",
   "execution_count": 15,
   "metadata": {},
   "outputs": [
    {
     "data": {
      "text/plain": [
       "'red'"
      ]
     },
     "execution_count": 15,
     "metadata": {},
     "output_type": "execute_result"
    }
   ],
   "source": [
    "dct_test=read_key_values(\"kvs1.txt\")\n",
    "dct_test"
   ]
  },
  {
   "cell_type": "code",
   "execution_count": 26,
   "metadata": {},
   "outputs": [
    {
     "data": {
      "text/plain": [
       "'apple'"
      ]
     },
     "execution_count": 26,
     "metadata": {},
     "output_type": "execute_result"
    }
   ],
   "source": [
    "list(dct_test.keys())[0]"
   ]
  },
  {
   "cell_type": "code",
   "execution_count": 34,
   "metadata": {},
   "outputs": [
    {
     "data": {
      "text/plain": [
       "['apple\\n',\n",
       " 'avacado\\n',\n",
       " 'raspberry\\n',\n",
       " 'blueberry\\n',\n",
       " 'cherry\\n',\n",
       " 'eggplant\\n',\n",
       " 'grapes\\n',\n",
       " 'peach\\n',\n",
       " 'pineapple\\n',\n",
       " 'strawberry\\n',\n",
       " 'fig\\n']"
      ]
     },
     "execution_count": 34,
     "metadata": {},
     "output_type": "execute_result"
    }
   ],
   "source": [
    "with open(\"list1a.txt\",'r') as f:\n",
    "    lst_test=f.readlines()\n",
    "lst_test"
   ]
  }
 ],
 "metadata": {
  "kernelspec": {
   "display_name": "py38",
   "language": "python",
   "name": "python3"
  },
  "language_info": {
   "codemirror_mode": {
    "name": "ipython",
    "version": 3
   },
   "file_extension": ".py",
   "mimetype": "text/x-python",
   "name": "python",
   "nbconvert_exporter": "python",
   "pygments_lexer": "ipython3",
   "version": "3.8.0"
  }
 },
 "nbformat": 4,
 "nbformat_minor": 2
}
